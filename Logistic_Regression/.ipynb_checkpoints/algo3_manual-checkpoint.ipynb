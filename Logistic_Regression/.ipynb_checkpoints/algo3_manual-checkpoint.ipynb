{
 "cells": [
  {
   "cell_type": "code",
   "execution_count": 1,
   "id": "50bd805a-7cf1-4af7-84ac-97d9d45e4612",
   "metadata": {},
   "outputs": [],
   "source": [
    "# Import necessary libraries\n",
    "import pandas as pd\n",
    "import numpy as np\n",
    "import matplotlib.pyplot as plt\n"
   ]
  },
  {
   "cell_type": "code",
   "execution_count": 2,
   "id": "b6039e8b-759c-40b8-b86a-5c92b83f4a13",
   "metadata": {},
   "outputs": [],
   "source": [
    "\n",
    "# Load and preprocess data\n",
    "train_data = pd.read_csv('train.csv')\n",
    "test_data = pd.read_csv('test.csv')\n"
   ]
  },
  {
   "cell_type": "code",
   "execution_count": 3,
   "id": "1f9ba30a-8660-4730-b69f-aa02ee9bc37d",
   "metadata": {},
   "outputs": [],
   "source": [
    "# For training dataset\n",
    "train_features = train_data.drop(['Survived', 'Name'], axis=1)\n",
    "train_features = train_features.replace(to_replace=\"male\", value=1).replace(to_replace=\"female\", value=0)\n",
    "train_features = train_features.values.T\n",
    "train_labels = np.zeros(train_data.shape[0],)\n",
    "train_labels = train_data['Survived'].values.reshape(train_labels.shape[0], 1).T\n"
   ]
  },
  {
   "cell_type": "code",
   "execution_count": 4,
   "id": "3c2438a0-9d1a-46b6-af5d-0039fe29a0f0",
   "metadata": {},
   "outputs": [],
   "source": [
    "# For test dataset\n",
    "test_features = test_data.drop(['Survived', 'Name'], axis=1)\n",
    "test_features = test_features.replace(to_replace=\"male\", value=1).replace(to_replace=\"female\", value=0)\n",
    "test_features = test_features.values.T\n",
    "test_labels = np.zeros(test_data.shape[0],)\n",
    "test_labels = test_data['Survived'].values.reshape(test_labels.shape[0], 1).T"
   ]
  },
  {
   "cell_type": "code",
   "execution_count": 5,
   "id": "fa4dd69f-b88f-4c93-9800-bc31a7e8483a",
   "metadata": {},
   "outputs": [],
   "source": [
    "# Define sigmoid function\n",
    "def sigmoid_func(z):\n",
    "    return 1 / (1 + np.exp(-z))"
   ]
  },
  {
   "cell_type": "code",
   "execution_count": 6,
   "id": "99a9568b-8306-4488-92a7-ec442454ce20",
   "metadata": {},
   "outputs": [],
   "source": [
    "# Define loss function\n",
    "def compute_loss(y, y_hat, num_samples):\n",
    "    loss = -(1 / num_samples) * np.sum(y * np.log(y_hat) + (1 - y) * np.log(1 - y_hat))\n",
    "    return loss"
   ]
  },
  {
   "cell_type": "code",
   "execution_count": 7,
   "id": "7463dfc0-943c-430b-aaf4-258a240e91d3",
   "metadata": {},
   "outputs": [],
   "source": [
    "# Compute gradients\n",
    "def compute_gradients(X, y, y_hat, num_samples):\n",
    "    dw = (1 / num_samples) * np.dot((y_hat - y), X.T)\n",
    "    db = (1 / num_samples) * np.sum(y_hat - y)\n",
    "    return dw, db"
   ]
  },
  {
   "cell_type": "code",
   "execution_count": 8,
   "id": "dfe1f27c-0195-459f-9546-49dd38163931",
   "metadata": {},
   "outputs": [],
   "source": [
    "# Logistic regression model\n",
    "def logistic_regression_model(X, y, learning_rate, epochs):\n",
    "    num_samples = X.shape[1]\n",
    "    loss_values = []\n",
    "    weights, bias = np.zeros((X.shape[0], 1)), 0\n",
    "\n",
    "    for i in range(epochs):\n",
    "        z = np.dot(weights.T, X) + bias\n",
    "        y_hat = sigmoid_func(z)\n",
    "        loss = compute_loss(y, y_hat, num_samples)\n",
    "        dw, db = compute_gradients(X, y, y_hat, num_samples)\n",
    "\n",
    "        weights = weights - learning_rate * dw.T\n",
    "        bias = bias - learning_rate * db\n",
    "        loss_values.append(loss)\n",
    "\n",
    "        if i % 10000 == 0:\n",
    "            print(f\"Epoch: {i}\")\n",
    "            print(f\"Loss: {loss}\")\n",
    "\n",
    "    return weights, bias, loss_values"
   ]
  },
  {
   "cell_type": "code",
   "execution_count": 9,
   "id": "3c5018b2-0e1e-4c90-8308-57f797dd5e05",
   "metadata": {
    "scrolled": true
   },
   "outputs": [
    {
     "name": "stdout",
     "output_type": "stream",
     "text": [
      "Epoch: 0\n",
      "Loss: 0.6931471805599453\n",
      "Epoch: 10000\n",
      "Loss: 0.5022857042662064\n",
      "Epoch: 20000\n",
      "Loss: 0.4877215500383122\n",
      "Epoch: 30000\n",
      "Loss: 0.4799443310761704\n",
      "Epoch: 40000\n",
      "Loss: 0.47439764120190375\n",
      "Epoch: 50000\n",
      "Loss: 0.4703154374730231\n",
      "Epoch: 60000\n",
      "Loss: 0.4672863795801741\n",
      "Epoch: 70000\n",
      "Loss: 0.4650242426684055\n",
      "Epoch: 80000\n",
      "Loss: 0.46332459319128116\n",
      "Epoch: 90000\n",
      "Loss: 0.4620404196427693\n"
     ]
    }
   ],
   "source": [
    "# Train the model\n",
    "epochs = 100000\n",
    "learning_rate = 0.0036\n",
    "weights, bias, loss_values = logistic_regression_model(train_features, train_labels, learning_rate, epochs)"
   ]
  },
  {
   "cell_type": "code",
   "execution_count": 10,
   "id": "782f13b9-3ea1-4a2d-82d8-a4e6744e95c8",
   "metadata": {
    "scrolled": true
   },
   "outputs": [
    {
     "data": {
      "image/png": "[encoded data removed]",
      "text/plain": [
       "<Figure size 640x480 with 1 Axes>"
      ]
     },
     "metadata": {},
     "output_type": "display_data"
    }
   ],
   "source": [
    "# Plot the loss function\n",
    "plt.plot(range(epochs),loss_values)\n",
    "plt.xlabel(\"Epochs\")\n",
    "plt.ylabel(\"Loss\")\n",
    "plt.show()"
   ]
  },
  {
   "cell_type": "code",
   "execution_count": 15,
   "id": "6f492831-859c-4e4c-96a1-52ec16c9d7a2",
   "metadata": {},
   "outputs": [
    {
     "name": "stdout",
     "output_type": "stream",
     "text": [
      "Accuracy of the Model in %age is: 95.84055459272098\n"
     ]
    }
   ],
   "source": [
    "# Define accuracy function\n",
    "def accuracy(X, y, w, b):\n",
    "    z = np.dot(w.T, X) + b\n",
    "    y_hat = sigmoid_func(z)\n",
    "    y_hat = y_hat > 0.5\n",
    "    y_hat = np.array(z, dtype= \"int64\")\n",
    "    accuracy = 100 * (np.sum(np.absolute(y_hat - y)))/y.shape[1]\n",
    "    print(f\"Accuracy of the Model in %age is: {accuracy}\")\n",
    "\n",
    "accuracy(train_features, train_labels, weights, bias)"
   ]
  }
 ],
 "metadata": {
  "kernelspec": {
   "display_name": "Python 3 (ipykernel)",
   "language": "python",
   "name": "python3"
  },
  "language_info": {
   "codemirror_mode": {
    "name": "ipython",
    "version": 3
   },
   "file_extension": ".py",
   "mimetype": "text/x-python",
   "name": "python",
   "nbconvert_exporter": "python",
   "pygments_lexer": "ipython3",
   "version": "3.11.5"
  }
 },
 "nbformat": 4,
 "nbformat_minor": 5
}
